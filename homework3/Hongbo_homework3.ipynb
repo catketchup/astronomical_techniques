{
 "cells": [
  {
   "cell_type": "code",
   "execution_count": 3,
   "metadata": {},
   "outputs": [
    {
     "name": "stdout",
     "output_type": "stream",
     "text": [
      "Populating the interactive namespace from numpy and matplotlib\n"
     ]
    }
   ],
   "source": [
    "%pylab inline"
   ]
  },
  {
   "cell_type": "code",
   "execution_count": 4,
   "metadata": {},
   "outputs": [],
   "source": [
    "import scipy.stats as stats\n",
    "import numpy.random as random\n",
    "import scipy.interpolate as interpol\n",
    "import scipy.integrate as integrate\n",
    "from scipy.special import comb,factorial\n"
   ]
  },
  {
   "cell_type": "code",
   "execution_count": 5,
   "metadata": {},
   "outputs": [],
   "source": [
    "prior=1#this is a uniform prior\n",
    "\n",
    "def poll(n,m,Range):#this is the function we need\n",
    "    \n",
    "    #calculate the posterior and plot it\n",
    "    p=np.linspace(0.,1.,501)\n",
    "    likelihood=comb(n,m)*p**m*(1-p)**(n-m)\n",
    "    interp_f=interpol.interp1d(p,likelihood*prior,kind='cubic')\n",
    "    norm=integrate.quad(interp_f,0,1)[0]\n",
    "    posterior=likelihood*prior/norm\n",
    "    plt.plot(p,posterior)\n",
    "    \n",
    "    #then calculate the probability within a range of the percentage who\n",
    "    #favored the candidate in the interviews\n",
    "    prob=integrate.quad(interp_f,m/n-Range,m/n+Range)[0]\n",
    "    print(\"within +/-\",100*Range,\"%:\",prob/norm)\n",
    "\n",
    "    "
   ]
  },
  {
   "cell_type": "code",
   "execution_count": 7,
   "metadata": {},
   "outputs": [
    {
     "name": "stdout",
     "output_type": "stream",
     "text": [
      "within +/- 1.0 %: 0.3212598900246859\n",
      "within +/- 2.0 %: 0.5926771066741\n",
      "within +/- 3.0 %: 0.7863275788798723\n",
      "within +/- 4.0 %: 0.9029141562616372\n",
      "within +/- 5.0 %: 0.9620738696571001\n",
      "within +/- 10.0 %: 0.9999700777736318\n"
     ]
    },
    {
     "data": {
      "image/png": "[encoded data removed]",
      "text/plain": [
       "<Figure size 432x288 with 1 Axes>"
      ]
     },
     "metadata": {
      "needs_background": "light"
     },
     "output_type": "display_data"
    }
   ],
   "source": [
    "#I choose Wolf \n",
    "x=[0.01,0.02,0.03,0.04,0.05,0.10]#calculate the ratio within a certain range of the percentage who favored Wolf\n",
    "for i, Range in enumerate(x):\n",
    "    poll(421,236,Range)\n",
    "    "
   ]
  },
  {
   "cell_type": "markdown",
   "metadata": {},
   "source": [
    "Result:\n",
    "within +/- 1.0 %: 0.3212598900246859\n",
    "within +/- 2.0 %: 0.5926771066741\n",
    "within +/- 3.0 %: 0.7863275788798723\n",
    "within +/- 4.0 %: 0.9029141562616372\n",
    "within +/- 5.0 %: 0.9620738696571001\n",
    "within +/- 10.0 %: 0.9999700777736318\n"
   ]
  },
  {
   "cell_type": "code",
   "execution_count": 8,
   "metadata": {},
   "outputs": [
    {
     "name": "stdout",
     "output_type": "stream",
     "text": [
      "within +/- 1.7999999999999905 %: 0.5441490854780974\n"
     ]
    },
    {
     "data": {
      "image/png": "[encoded data removed]",
      "text/plain": [
       "<Figure size 432x288 with 1 Axes>"
      ]
     },
     "metadata": {
      "needs_background": "light"
     },
     "output_type": "display_data"
    }
   ],
   "source": [
    "#test the final result:\n",
    "x=0.578-0.56\n",
    "poll(421,236,x)"
   ]
  },
  {
   "cell_type": "markdown",
   "metadata": {},
   "source": [
    "In the final, Wolf received 57.8% which is within the +/-1.8% of the percentage who favored him. The probability I predicted within this range is 0.5441490854780974, and I think it is consistent with the poll result."
   ]
  }
 ],
 "metadata": {
  "kernelspec": {
   "display_name": "Python 3",
   "language": "python",
   "name": "python3"
  },
  "language_info": {
   "codemirror_mode": {
    "name": "ipython",
    "version": 3
   },
   "file_extension": ".py",
   "mimetype": "text/x-python",
   "name": "python",
   "nbconvert_exporter": "python",
   "pygments_lexer": "ipython3",
   "version": "3.7.1"
  }
 },
 "nbformat": 4,
 "nbformat_minor": 2
}
